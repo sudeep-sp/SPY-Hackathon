{
 "cells": [
  {
   "cell_type": "code",
   "execution_count": null,
   "metadata": {},
   "outputs": [],
   "source": [
    "# for i in df.select_dtypes(include='object').columns:\n",
    "#     print(df[i].value_counts())\n",
    "#     print('****'*10)"
   ]
  },
  {
   "cell_type": "code",
   "execution_count": 1,
   "metadata": {},
   "outputs": [],
   "source": [
    "import pandas as pd\n",
    "\n",
    "df = pd.read_csv('data/preprocessed_training_UNSW_NB15.csv')"
   ]
  },
  {
   "cell_type": "code",
   "execution_count": 2,
   "metadata": {},
   "outputs": [
    {
     "data": {
      "text/plain": [
       "Index(['dur', 'spkts', 'dpkts', 'sbytes', 'dbytes', 'rate', 'sttl', 'dttl',\n",
       "       'sload', 'dload', 'sloss', 'dloss', 'sinpkt', 'dinpkt', 'sjit', 'djit',\n",
       "       'swin', 'dwin', 'tcprtt', 'synack', 'ackdat', 'smean', 'dmean',\n",
       "       'ct_srv_src', 'ct_state_ttl', 'ct_dst_ltm', 'ct_src_dport_ltm',\n",
       "       'ct_dst_sport_ltm', 'ct_dst_src_ltm', 'ct_ftp_cmd', 'ct_flw_http_mthd',\n",
       "       'ct_src_ltm', 'ct_srv_dst', 'is_sm_ips_ports', 'label',\n",
       "       'is_ftp_login_1', 'is_ftp_login_2'],\n",
       "      dtype='object')"
      ]
     },
     "execution_count": 2,
     "metadata": {},
     "output_type": "execute_result"
    }
   ],
   "source": [
    "df.columns"
   ]
  },
  {
   "cell_type": "code",
   "execution_count": 3,
   "metadata": {},
   "outputs": [
    {
     "data": {
      "text/html": [
       "<div>\n",
       "<style scoped>\n",
       "    .dataframe tbody tr th:only-of-type {\n",
       "        vertical-align: middle;\n",
       "    }\n",
       "\n",
       "    .dataframe tbody tr th {\n",
       "        vertical-align: top;\n",
       "    }\n",
       "\n",
       "    .dataframe thead th {\n",
       "        text-align: right;\n",
       "    }\n",
       "</style>\n",
       "<table border=\"1\" class=\"dataframe\">\n",
       "  <thead>\n",
       "    <tr style=\"text-align: right;\">\n",
       "      <th></th>\n",
       "      <th>dur</th>\n",
       "      <th>spkts</th>\n",
       "      <th>dpkts</th>\n",
       "      <th>sbytes</th>\n",
       "      <th>dbytes</th>\n",
       "      <th>rate</th>\n",
       "      <th>sttl</th>\n",
       "      <th>dttl</th>\n",
       "      <th>sload</th>\n",
       "      <th>dload</th>\n",
       "      <th>...</th>\n",
       "      <th>ct_dst_sport_ltm</th>\n",
       "      <th>ct_dst_src_ltm</th>\n",
       "      <th>ct_ftp_cmd</th>\n",
       "      <th>ct_flw_http_mthd</th>\n",
       "      <th>ct_src_ltm</th>\n",
       "      <th>ct_srv_dst</th>\n",
       "      <th>is_sm_ips_ports</th>\n",
       "      <th>label</th>\n",
       "      <th>is_ftp_login_1</th>\n",
       "      <th>is_ftp_login_2</th>\n",
       "    </tr>\n",
       "  </thead>\n",
       "  <tbody>\n",
       "    <tr>\n",
       "      <th>0</th>\n",
       "      <td>1.833334e-07</td>\n",
       "      <td>0.000094</td>\n",
       "      <td>0.0</td>\n",
       "      <td>0.000033</td>\n",
       "      <td>0.0</td>\n",
       "      <td>0.090909</td>\n",
       "      <td>0.996078</td>\n",
       "      <td>0.0</td>\n",
       "      <td>0.034238</td>\n",
       "      <td>0.0</td>\n",
       "      <td>...</td>\n",
       "      <td>0.0</td>\n",
       "      <td>0.016129</td>\n",
       "      <td>0.0</td>\n",
       "      <td>0.0</td>\n",
       "      <td>0.000000</td>\n",
       "      <td>0.016393</td>\n",
       "      <td>0.0</td>\n",
       "      <td>0</td>\n",
       "      <td>0.0</td>\n",
       "      <td>0.0</td>\n",
       "    </tr>\n",
       "    <tr>\n",
       "      <th>1</th>\n",
       "      <td>1.333334e-07</td>\n",
       "      <td>0.000094</td>\n",
       "      <td>0.0</td>\n",
       "      <td>0.000121</td>\n",
       "      <td>0.0</td>\n",
       "      <td>0.125000</td>\n",
       "      <td>0.996078</td>\n",
       "      <td>0.0</td>\n",
       "      <td>0.167236</td>\n",
       "      <td>0.0</td>\n",
       "      <td>...</td>\n",
       "      <td>0.0</td>\n",
       "      <td>0.016129</td>\n",
       "      <td>0.0</td>\n",
       "      <td>0.0</td>\n",
       "      <td>0.000000</td>\n",
       "      <td>0.016393</td>\n",
       "      <td>0.0</td>\n",
       "      <td>0</td>\n",
       "      <td>0.0</td>\n",
       "      <td>0.0</td>\n",
       "    </tr>\n",
       "    <tr>\n",
       "      <th>2</th>\n",
       "      <td>8.333335e-08</td>\n",
       "      <td>0.000094</td>\n",
       "      <td>0.0</td>\n",
       "      <td>0.000073</td>\n",
       "      <td>0.0</td>\n",
       "      <td>0.200000</td>\n",
       "      <td>0.996078</td>\n",
       "      <td>0.0</td>\n",
       "      <td>0.162187</td>\n",
       "      <td>0.0</td>\n",
       "      <td>...</td>\n",
       "      <td>0.0</td>\n",
       "      <td>0.032258</td>\n",
       "      <td>0.0</td>\n",
       "      <td>0.0</td>\n",
       "      <td>0.000000</td>\n",
       "      <td>0.032787</td>\n",
       "      <td>0.0</td>\n",
       "      <td>0</td>\n",
       "      <td>0.0</td>\n",
       "      <td>0.0</td>\n",
       "    </tr>\n",
       "    <tr>\n",
       "      <th>3</th>\n",
       "      <td>1.000000e-07</td>\n",
       "      <td>0.000094</td>\n",
       "      <td>0.0</td>\n",
       "      <td>0.000061</td>\n",
       "      <td>0.0</td>\n",
       "      <td>0.166667</td>\n",
       "      <td>0.996078</td>\n",
       "      <td>0.0</td>\n",
       "      <td>0.113895</td>\n",
       "      <td>0.0</td>\n",
       "      <td>...</td>\n",
       "      <td>0.0</td>\n",
       "      <td>0.032258</td>\n",
       "      <td>0.0</td>\n",
       "      <td>0.0</td>\n",
       "      <td>0.016949</td>\n",
       "      <td>0.032787</td>\n",
       "      <td>0.0</td>\n",
       "      <td>0</td>\n",
       "      <td>0.0</td>\n",
       "      <td>0.0</td>\n",
       "    </tr>\n",
       "    <tr>\n",
       "      <th>4</th>\n",
       "      <td>1.666667e-07</td>\n",
       "      <td>0.000094</td>\n",
       "      <td>0.0</td>\n",
       "      <td>0.000146</td>\n",
       "      <td>0.0</td>\n",
       "      <td>0.100000</td>\n",
       "      <td>0.996078</td>\n",
       "      <td>0.0</td>\n",
       "      <td>0.161427</td>\n",
       "      <td>0.0</td>\n",
       "      <td>...</td>\n",
       "      <td>0.0</td>\n",
       "      <td>0.032258</td>\n",
       "      <td>0.0</td>\n",
       "      <td>0.0</td>\n",
       "      <td>0.016949</td>\n",
       "      <td>0.032787</td>\n",
       "      <td>0.0</td>\n",
       "      <td>0</td>\n",
       "      <td>0.0</td>\n",
       "      <td>0.0</td>\n",
       "    </tr>\n",
       "  </tbody>\n",
       "</table>\n",
       "<p>5 rows × 37 columns</p>\n",
       "</div>"
      ],
      "text/plain": [
       "            dur     spkts  dpkts    sbytes  dbytes      rate      sttl  dttl  \\\n",
       "0  1.833334e-07  0.000094    0.0  0.000033     0.0  0.090909  0.996078   0.0   \n",
       "1  1.333334e-07  0.000094    0.0  0.000121     0.0  0.125000  0.996078   0.0   \n",
       "2  8.333335e-08  0.000094    0.0  0.000073     0.0  0.200000  0.996078   0.0   \n",
       "3  1.000000e-07  0.000094    0.0  0.000061     0.0  0.166667  0.996078   0.0   \n",
       "4  1.666667e-07  0.000094    0.0  0.000146     0.0  0.100000  0.996078   0.0   \n",
       "\n",
       "      sload  dload  ...  ct_dst_sport_ltm  ct_dst_src_ltm  ct_ftp_cmd  \\\n",
       "0  0.034238    0.0  ...               0.0        0.016129         0.0   \n",
       "1  0.167236    0.0  ...               0.0        0.016129         0.0   \n",
       "2  0.162187    0.0  ...               0.0        0.032258         0.0   \n",
       "3  0.113895    0.0  ...               0.0        0.032258         0.0   \n",
       "4  0.161427    0.0  ...               0.0        0.032258         0.0   \n",
       "\n",
       "   ct_flw_http_mthd  ct_src_ltm  ct_srv_dst  is_sm_ips_ports  label  \\\n",
       "0               0.0    0.000000    0.016393              0.0      0   \n",
       "1               0.0    0.000000    0.016393              0.0      0   \n",
       "2               0.0    0.000000    0.032787              0.0      0   \n",
       "3               0.0    0.016949    0.032787              0.0      0   \n",
       "4               0.0    0.016949    0.032787              0.0      0   \n",
       "\n",
       "   is_ftp_login_1  is_ftp_login_2  \n",
       "0             0.0             0.0  \n",
       "1             0.0             0.0  \n",
       "2             0.0             0.0  \n",
       "3             0.0             0.0  \n",
       "4             0.0             0.0  \n",
       "\n",
       "[5 rows x 37 columns]"
      ]
     },
     "execution_count": 3,
     "metadata": {},
     "output_type": "execute_result"
    }
   ],
   "source": [
    "df.head()"
   ]
  },
  {
   "cell_type": "code",
   "execution_count": 4,
   "metadata": {},
   "outputs": [
    {
     "name": "stdout",
     "output_type": "stream",
     "text": [
      "<class 'pandas.core.frame.DataFrame'>\n",
      "RangeIndex: 82332 entries, 0 to 82331\n",
      "Data columns (total 37 columns):\n",
      " #   Column            Non-Null Count  Dtype  \n",
      "---  ------            --------------  -----  \n",
      " 0   dur               82332 non-null  float64\n",
      " 1   spkts             82332 non-null  float64\n",
      " 2   dpkts             82332 non-null  float64\n",
      " 3   sbytes            82332 non-null  float64\n",
      " 4   dbytes            82332 non-null  float64\n",
      " 5   rate              82332 non-null  float64\n",
      " 6   sttl              82332 non-null  float64\n",
      " 7   dttl              82332 non-null  float64\n",
      " 8   sload             82332 non-null  float64\n",
      " 9   dload             82332 non-null  float64\n",
      " 10  sloss             82332 non-null  float64\n",
      " 11  dloss             82332 non-null  float64\n",
      " 12  sinpkt            82332 non-null  float64\n",
      " 13  dinpkt            82332 non-null  float64\n",
      " 14  sjit              82332 non-null  float64\n",
      " 15  djit              82332 non-null  float64\n",
      " 16  swin              82332 non-null  float64\n",
      " 17  dwin              82332 non-null  float64\n",
      " 18  tcprtt            82332 non-null  float64\n",
      " 19  synack            82332 non-null  float64\n",
      " 20  ackdat            82332 non-null  float64\n",
      " 21  smean             82332 non-null  float64\n",
      " 22  dmean             82332 non-null  float64\n",
      " 23  ct_srv_src        82332 non-null  float64\n",
      " 24  ct_state_ttl      82332 non-null  float64\n",
      " 25  ct_dst_ltm        82332 non-null  float64\n",
      " 26  ct_src_dport_ltm  82332 non-null  float64\n",
      " 27  ct_dst_sport_ltm  82332 non-null  float64\n",
      " 28  ct_dst_src_ltm    82332 non-null  float64\n",
      " 29  ct_ftp_cmd        82332 non-null  float64\n",
      " 30  ct_flw_http_mthd  82332 non-null  float64\n",
      " 31  ct_src_ltm        82332 non-null  float64\n",
      " 32  ct_srv_dst        82332 non-null  float64\n",
      " 33  is_sm_ips_ports   82332 non-null  float64\n",
      " 34  label             82332 non-null  int64  \n",
      " 35  is_ftp_login_1    82332 non-null  float64\n",
      " 36  is_ftp_login_2    82332 non-null  float64\n",
      "dtypes: float64(36), int64(1)\n",
      "memory usage: 23.2 MB\n"
     ]
    }
   ],
   "source": [
    "df.info()"
   ]
  },
  {
   "cell_type": "code",
   "execution_count": 5,
   "metadata": {},
   "outputs": [
    {
     "data": {
      "text/plain": [
       "label\n",
       "1    45332\n",
       "0    37000\n",
       "Name: count, dtype: int64"
      ]
     },
     "execution_count": 5,
     "metadata": {},
     "output_type": "execute_result"
    }
   ],
   "source": [
    "df['label'].value_counts()"
   ]
  },
  {
   "cell_type": "code",
   "execution_count": 6,
   "metadata": {},
   "outputs": [],
   "source": [
    "import pandas as pd\n",
    "from sklearn.model_selection import train_test_split\n",
    "from sklearn.utils import resample\n",
    "import numpy as np\n",
    "\n",
    "\n",
    "def preprocess_data(filepath):\n",
    "\n",
    "    # Separate features and labels\n",
    "    data = pd.read_csv(filepath)\n",
    "    X = data.drop('label', axis=1).values\n",
    "    y = data['label'].values\n",
    "\n",
    "    # Handle class imbalance (if needed)\n",
    "    X_majority = X[y == 0]\n",
    "    y_majority = y[y == 0]\n",
    "    X_minority = X[y == 1]\n",
    "    y_minority = y[y == 1]\n",
    "\n",
    "    X_minority_upsampled, y_minority_upsampled = resample(\n",
    "        X_minority, y_minority,\n",
    "        replace=True,\n",
    "        n_samples=len(y_majority),\n",
    "        random_state=42\n",
    "    )\n",
    "\n",
    "    X_balanced = np.vstack((X_majority, X_minority_upsampled))\n",
    "    y_balanced = np.hstack((y_majority, y_minority_upsampled))\n",
    "\n",
    "    # Split the data into training and testing sets\n",
    "    X_train, X_test, y_train, y_test = train_test_split(\n",
    "        X_balanced, y_balanced, test_size=0.2, random_state=42\n",
    "    )\n",
    "\n",
    "    return X_train, X_test, y_train, y_test"
   ]
  },
  {
   "cell_type": "code",
   "execution_count": 7,
   "metadata": {},
   "outputs": [
    {
     "name": "stdout",
     "output_type": "stream",
     "text": [
      "Training data shape: (59200, 36)\n",
      "Testing data shape: (14800, 36)\n",
      "Training label shape: (59200,)\n",
      "Testing label shape: (14800,)\n"
     ]
    }
   ],
   "source": [
    "filepath = 'data/preprocessed_training_UNSW_NB15.csv'\n",
    "X_train, X_test, y_train, y_test = preprocess_data(filepath)\n",
    "print(f\"Training data shape: {X_train.shape}\")\n",
    "print(f\"Testing data shape: {X_test.shape}\")\n",
    "print(f\"Training label shape: {y_train.shape}\")\n",
    "print(f\"Testing label shape: {y_test.shape}\")"
   ]
  },
  {
   "cell_type": "code",
   "execution_count": 8,
   "metadata": {},
   "outputs": [],
   "source": [
    "import torch\n",
    "if torch.backends.mps.is_available():\n",
    "    device = torch.device(\"mps\")\n",
    "else:\n",
    "    device = torch.device(\"cpu\")"
   ]
  },
  {
   "cell_type": "code",
   "execution_count": 9,
   "metadata": {},
   "outputs": [],
   "source": [
    "import torch\n",
    "\n",
    "# Convert all tensors to float\n",
    "X_train = torch.tensor(X_train).float()\n",
    "X_test = torch.tensor(X_test).float()\n",
    "y_train = torch.tensor(y_train).float()\n",
    "y_test = torch.tensor(y_test).float()"
   ]
  },
  {
   "cell_type": "code",
   "execution_count": 10,
   "metadata": {},
   "outputs": [
    {
     "data": {
      "text/plain": [
       "36"
      ]
     },
     "execution_count": 10,
     "metadata": {},
     "output_type": "execute_result"
    }
   ],
   "source": [
    "X_train[1].shape[0]"
   ]
  },
  {
   "cell_type": "code",
   "execution_count": 11,
   "metadata": {},
   "outputs": [],
   "source": [
    "\n",
    "def create_client_data(num_clients=3):\n",
    "    \"\"\"Simulates datasets for clients.\"\"\"\n",
    "    client_data = []\n",
    "    for _ in range(num_clients):\n",
    "        client_data.append((X_train, y_train))\n",
    "    return client_data"
   ]
  },
  {
   "cell_type": "code",
   "execution_count": 12,
   "metadata": {},
   "outputs": [],
   "source": [
    "import torch\n",
    "import torch.nn as nn\n",
    "\n",
    "\n",
    "class clientsMod(nn.Module):\n",
    "    def __init__(self, input_dim=36):\n",
    "        super(clientsMod, self).__init__()\n",
    "        self.fc1 = nn.Linear(input_dim, 64)\n",
    "        self.fc2 = nn.Linear(64, 32)\n",
    "        self.fc3 = nn.Linear(32, 1)\n",
    "        self.sigmoid = nn.Sigmoid()\n",
    "\n",
    "    def forward(self, x):\n",
    "        x = torch.relu(self.fc1(x))\n",
    "        x = torch.relu(self.fc2(x))\n",
    "        x = self.sigmoid(self.fc3(x))\n",
    "        return x"
   ]
  },
  {
   "cell_type": "code",
   "execution_count": 13,
   "metadata": {},
   "outputs": [],
   "source": [
    "class MainModel(nn.Module):\n",
    "    def __init__(self, input_dim=36):\n",
    "        super(MainModel, self).__init__()\n",
    "        self.fc1 = nn.Linear(input_dim, 64)\n",
    "        self.fc2 = nn.Linear(64, 32)\n",
    "        self.fc3 = nn.Linear(32, 1)\n",
    "        self.sigmoid = nn.Sigmoid()\n",
    "\n",
    "    def forward(self, x):\n",
    "        x = torch.relu(self.fc1(x))\n",
    "        x = torch.relu(self.fc2(x))\n",
    "        x = self.sigmoid(self.fc3(x))\n",
    "        return x"
   ]
  },
  {
   "cell_type": "code",
   "execution_count": 14,
   "metadata": {},
   "outputs": [],
   "source": [
    "def federated_avg(models):\n",
    "    \"\"\"Aggregate model weights by averaging.\"\"\"\n",
    "    avg_model = models[0]\n",
    "    with torch.no_grad():\n",
    "        for key in avg_model.state_dict():\n",
    "            avg_model.state_dict()[key].copy_(\n",
    "                sum(model.state_dict()[key] for model in models) / len(models)\n",
    "            )\n",
    "    return avg_model"
   ]
  },
  {
   "cell_type": "code",
   "execution_count": 15,
   "metadata": {},
   "outputs": [],
   "source": [
    "# Training function for clients\n",
    "import torch.optim as optim\n",
    "from torch.utils.data import DataLoader, TensorDataset\n",
    "\n",
    "def train_client(model, data, epochs=5, lr=0.01):\n",
    "    \"\"\"Train a model on a single client's data.\"\"\"\n",
    "    model.train()\n",
    "    \n",
    "    optimizer = optim.Adam(model.parameters(), lr=lr)\n",
    "    loss_fn = nn.BCELoss()\n",
    "    x, y = data\n",
    "    dataset = TensorDataset(x, y)\n",
    "    loader = DataLoader(dataset, batch_size=32, shuffle=True)\n",
    "\n",
    "    for epoch in range(epochs):\n",
    "        for batch_x, batch_y in loader:\n",
    "            optimizer.zero_grad()\n",
    "            y_pred = model(batch_x).squeeze()\n",
    "            loss = loss_fn(y_pred, batch_y)\n",
    "            loss.backward()\n",
    "            optimizer.step()\n",
    "\n",
    "    return model"
   ]
  },
  {
   "cell_type": "code",
   "execution_count": 16,
   "metadata": {},
   "outputs": [],
   "source": [
    "# Evaluation function\n",
    "def evaluate_model(model, data):\n",
    "    \"\"\"Evaluate model accuracy on a dataset.\"\"\"\n",
    "    model.eval()\n",
    "    x, y = data\n",
    "    with torch.no_grad():\n",
    "        y_pred = model(x).squeeze()\n",
    "        y_pred = (y_pred > 0.5).float()  # Threshold to get binary predictions\n",
    "        accuracy = (y_pred == y).float().mean().item()\n",
    "    return accuracy"
   ]
  },
  {
   "cell_type": "code",
   "execution_count": 20,
   "metadata": {},
   "outputs": [],
   "source": [
    "import matplotlib.pyplot as plt\n",
    "\n",
    "def plot_accuracy_graph(global_epochs, global_accuracies, local_accuracies):\n",
    "    \"\"\"\n",
    "    Plots a graph of epochs vs accuracy for global and local models.\n",
    "\n",
    "    Args:\n",
    "        global_epochs (int): Total number of global epochs.\n",
    "        global_accuracies (list): List of global accuracies over the epochs.\n",
    "        local_accuracies (list of lists): List of local accuracies for each client.\n",
    "    \"\"\"\n",
    "    epochs = np.arange(1, global_epochs + 1)\n",
    "\n",
    "    # Plot global accuracy\n",
    "    plt.plot(epochs, global_accuracies,\n",
    "             label='Global Accuracy', marker='o', color='b')\n",
    "\n",
    "    # Plot local accuracies for each client\n",
    "    for i, local_acc in enumerate(local_accuracies):\n",
    "        plt.plot(epochs, local_acc,\n",
    "                 label=f'Client {i + 1} Accuracy', linestyle='--')\n",
    "\n",
    "    # Labels and title\n",
    "    plt.xlabel('Global Epochs')\n",
    "    plt.ylabel('Accuracy')\n",
    "    plt.title('Federated Learning: Epochs vs Accuracy')\n",
    "    plt.legend()\n",
    "    plt.grid(True)\n",
    "    plt.show()"
   ]
  },
  {
   "cell_type": "code",
   "execution_count": 25,
   "metadata": {},
   "outputs": [],
   "source": [
    "\n",
    "def federated_learning_simulation(num_clients=3, global_epochs=6, local_epochs=5):\n",
    "    input_dim = 36  # Features\n",
    "    client_data = create_client_data(\n",
    "        num_clients=num_clients)\n",
    "\n",
    "    # Initialize a model for each client\n",
    "    client_models = [clientsMod(input_dim) for _ in range(num_clients)]\n",
    "\n",
    "    # Global model\n",
    "    global_model = MainModel(input_dim)\n",
    "\n",
    "    global_accuracies = []\n",
    "    # To store local accuracies per client\n",
    "    local_accuracies = [[] for _ in range(num_clients)]\n",
    "\n",
    "    for global_epoch in range(global_epochs):\n",
    "        print(f\"Global Epoch {global_epoch + 1}/{global_epochs}\")\n",
    "\n",
    "        # Step 1: Send global model to clients\n",
    "        for model in client_models:\n",
    "            model.load_state_dict(global_model.state_dict())\n",
    "\n",
    "        # Step 2: Train local models and collect accuracies\n",
    "        for i, model in enumerate(client_models):\n",
    "            train_client(model, client_data[i], epochs=local_epochs)\n",
    "            local_acc = evaluate_model(model, client_data[i])\n",
    "            # Store local accuracy for each client\n",
    "            local_accuracies[i].append(local_acc)\n",
    "            print(f\"  Client {i + 1} Local Accuracy: {local_acc:.2f}\")\n",
    "\n",
    "        # Step 3: Aggregate models\n",
    "        global_model = federated_avg(client_models)\n",
    "\n",
    "        # Step 4: Evaluate global model on all clients\n",
    "        global_acc = np.mean(\n",
    "            [evaluate_model(global_model, client_data[i])\n",
    "             for i in range(num_clients)]\n",
    "        )\n",
    "        print(f\"  Global Model Accuracy: {global_acc:.2f}\\n\")\n",
    "\n",
    "        # Store global accuracy\n",
    "        global_accuracies.append(global_acc)\n",
    "\n",
    "    # Plot the accuracy graph after the training loop\n",
    "    plot_accuracy_graph(global_epochs, global_accuracies, local_accuracies)\n",
    "\n",
    "    return global_model"
   ]
  },
  {
   "cell_type": "code",
   "execution_count": 24,
   "metadata": {},
   "outputs": [
    {
     "name": "stdout",
     "output_type": "stream",
     "text": [
      "Global Epoch 1/6\n",
      "  Client 1 Local Accuracy: 0.91\n",
      "  Client 2 Local Accuracy: 0.93\n",
      "  Client 3 Local Accuracy: 0.93\n",
      "  Global Model Accuracy: 0.90\n",
      "\n",
      "Global Epoch 2/6\n",
      "  Client 1 Local Accuracy: 0.94\n",
      "  Client 2 Local Accuracy: 0.94\n",
      "  Client 3 Local Accuracy: 0.95\n",
      "  Global Model Accuracy: 0.95\n",
      "\n",
      "Global Epoch 3/6\n",
      "  Client 1 Local Accuracy: 0.95\n",
      "  Client 2 Local Accuracy: 0.95\n",
      "  Client 3 Local Accuracy: 0.95\n",
      "  Global Model Accuracy: 0.95\n",
      "\n",
      "Global Epoch 4/6\n",
      "  Client 1 Local Accuracy: 0.95\n",
      "  Client 2 Local Accuracy: 0.95\n",
      "  Client 3 Local Accuracy: 0.95\n",
      "  Global Model Accuracy: 0.95\n",
      "\n",
      "Global Epoch 5/6\n",
      "  Client 1 Local Accuracy: 0.95\n",
      "  Client 2 Local Accuracy: 0.95\n",
      "  Client 3 Local Accuracy: 0.95\n",
      "  Global Model Accuracy: 0.95\n",
      "\n",
      "Global Epoch 6/6\n",
      "  Client 1 Local Accuracy: 0.95\n",
      "  Client 2 Local Accuracy: 0.95\n",
      "  Client 3 Local Accuracy: 0.95\n",
      "  Global Model Accuracy: 0.95\n",
      "\n"
     ]
    },
    {
     "data": {
      "image/png": "[encoded data removed]",
      "text/plain": [
       "<Figure size 640x480 with 1 Axes>"
      ]
     },
     "metadata": {},
     "output_type": "display_data"
    },
    {
     "data": {
      "text/plain": [
       "clientsMod(\n",
       "  (fc1): Linear(in_features=36, out_features=64, bias=True)\n",
       "  (fc2): Linear(in_features=64, out_features=32, bias=True)\n",
       "  (fc3): Linear(in_features=32, out_features=1, bias=True)\n",
       "  (sigmoid): Sigmoid()\n",
       ")"
      ]
     },
     "execution_count": 24,
     "metadata": {},
     "output_type": "execute_result"
    }
   ],
   "source": [
    "federated_learning_simulation()"
   ]
  }
 ],
 "metadata": {
  "kernelspec": {
   "display_name": "SPY-H",
   "language": "python",
   "name": "python3"
  },
  "language_info": {
   "codemirror_mode": {
    "name": "ipython",
    "version": 3
   },
   "file_extension": ".py",
   "mimetype": "text/x-python",
   "name": "python",
   "nbconvert_exporter": "python",
   "pygments_lexer": "ipython3",
   "version": "3.11.11"
  }
 },
 "nbformat": 4,
 "nbformat_minor": 2
}
